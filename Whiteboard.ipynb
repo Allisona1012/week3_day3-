{
 "cells": [
  {
   "cell_type": "code",
   "execution_count": null,
   "id": "643785fa",
   "metadata": {},
   "outputs": [],
   "source": [
    "# You must implement a function that return the difference between the biggest \n",
    "# and the smallest value in a list(lst) received as parameter.\n",
    "\n",
    "# The list(lst) contains integers, that means it may contain some negative numbers.\n",
    "\n",
    "# If the list is empty or contains a single element, return 0.\n",
    "\n",
    "# The list(lst) is not sorted.\n",
    "\n",
    "# max_diff([1, 2, 3, 4]) # return 3, because 4 - 1 == 3\n",
    "# max_diff([1, 2, 3, -4]) # return 7, because 3 - (-4) == 7\n",
    "\n",
    "\n",
    "\n",
    "\n",
    "\n"
   ]
  },
  {
   "cell_type": "code",
   "execution_count": 3,
   "id": "69c496ef",
   "metadata": {},
   "outputs": [
    {
     "name": "stdout",
     "output_type": "stream",
     "text": [
      "8\n"
     ]
    }
   ],
   "source": [
    "def return_difference(lst):\n",
    "    if len(lst) == 1 or len(lst) == 0:\n",
    "        return 0\n",
    "    difference = max(lst) - min(lst)      \n",
    "    return difference\n",
    "\n",
    "\n",
    "\n",
    "print(return_difference([1,2,4,-1,7]))\n",
    "            \n",
    "            \n",
    "            \n",
    "    \n",
    "    "
   ]
  }
 ],
 "metadata": {
  "kernelspec": {
   "display_name": "Python 3 (ipykernel)",
   "language": "python",
   "name": "python3"
  },
  "language_info": {
   "codemirror_mode": {
    "name": "ipython",
    "version": 3
   },
   "file_extension": ".py",
   "mimetype": "text/x-python",
   "name": "python",
   "nbconvert_exporter": "python",
   "pygments_lexer": "ipython3",
   "version": "3.9.7"
  }
 },
 "nbformat": 4,
 "nbformat_minor": 5
}
